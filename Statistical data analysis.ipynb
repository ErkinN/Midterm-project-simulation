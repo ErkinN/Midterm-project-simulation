{
 "cells": [
  {
   "cell_type": "code",
   "execution_count": 17,
   "id": "dd6a507a",
   "metadata": {},
   "outputs": [],
   "source": [
    "import random\n",
    "from collections import Counter"
   ]
  },
  {
   "cell_type": "code",
   "execution_count": 3,
   "id": "4083a962",
   "metadata": {},
   "outputs": [],
   "source": [
    "class Bowl:\n",
    "    def __init__(self, red, blue, green):\n",
    "        self.red = red\n",
    "        self.blue = blue\n",
    "        self.green = green\n",
    "        self.sumbowl = [\"red\"]*self.red + [\"blue\"]*self.blue + [\"green\"]*self.green\n",
    "    def __add__(self, other):\n",
    "        return Bowl(self.red  + other.red, self.blue  + other.blue, self.green  + other.green)\n",
    "    def __repr__(self):\n",
    "        return f\"Bowl(Red = {self.red},Blue = {self.blue}, Green = {self.green}) \"  \n",
    "    def simulation(self, number, repetition):\n",
    "        my_list = []\n",
    "        for i in range(repetition):\n",
    "            output = random.choices(self.sumbowl, k = number)\n",
    "            counted = Counter(output)\n",
    "            text = \"(\"\n",
    "            for j in counted:\n",
    "                text  += f\"{j}:{counted[j]} \"\n",
    "            text+=\", \" + str(i+1) + \")\"\n",
    "            my_list.append(text)\n",
    "        return my_list\n",
    "    def __eq__(self, other):\n",
    "        return self.red == other.red and self.blue == other.blue and self.green == other.green\n",
    "    def fetch(self, sample):\n",
    "        output = random.choices(self.sumbowl, k = sample)\n",
    "        counted = Counter(output)\n",
    "        b = Bowl(counted[\"red\"], counted[\"blue\"], counted[\"green\"])\n",
    "        return b\n",
    "    def __getitem__(self, color):\n",
    "        return self.sumbowl.count(color)   \n",
    "    \n",
    "a = Bowl(5, 4, 3)\n",
    "b = Bowl(1, 2, 3)    "
   ]
  },
  {
   "cell_type": "code",
   "execution_count": 7,
   "id": "bc2b044b",
   "metadata": {},
   "outputs": [
    {
     "data": {
      "text/plain": [
       "Bowl(Red = 6,Blue = 6, Green = 6) "
      ]
     },
     "execution_count": 7,
     "metadata": {},
     "output_type": "execute_result"
    }
   ],
   "source": [
    "a + b # __add__ method check\n",
    "\n"
   ]
  },
  {
   "cell_type": "code",
   "execution_count": 19,
   "id": "cef93b47",
   "metadata": {},
   "outputs": [
    {
     "data": {
      "text/plain": [
       "False"
      ]
     },
     "execution_count": 19,
     "metadata": {},
     "output_type": "execute_result"
    }
   ],
   "source": [
    "a == b \n"
   ]
  },
  {
   "cell_type": "code",
   "execution_count": 18,
   "id": "64fc7a39",
   "metadata": {},
   "outputs": [
    {
     "data": {
      "text/plain": [
       "['(blue:2 green:1 red:2 , 1)',\n",
       " '(blue:3 red:2 , 2)',\n",
       " '(red:3 green:2 , 3)',\n",
       " '(red:4 green:1 , 4)',\n",
       " '(red:4 green:1 , 5)',\n",
       " '(green:2 blue:1 red:2 , 6)',\n",
       " '(blue:3 red:2 , 7)',\n",
       " '(red:4 green:1 , 8)',\n",
       " '(red:3 green:1 blue:1 , 9)',\n",
       " '(red:1 blue:2 green:2 , 10)']"
      ]
     },
     "execution_count": 18,
     "metadata": {},
     "output_type": "execute_result"
    }
   ],
   "source": [
    "a.simulation(5, 10) \n"
   ]
  },
  {
   "cell_type": "code",
   "execution_count": 20,
   "id": "0837f601",
   "metadata": {},
   "outputs": [
    {
     "data": {
      "text/plain": [
       "Bowl(Red = 2,Blue = 3, Green = 0) "
      ]
     },
     "execution_count": 20,
     "metadata": {},
     "output_type": "execute_result"
    }
   ],
   "source": [
    "a.fetch(5) # fetch method check"
   ]
  },
  {
   "cell_type": "code",
   "execution_count": 21,
   "id": "4b75d9e3",
   "metadata": {},
   "outputs": [
    {
     "data": {
      "text/plain": [
       "1"
      ]
     },
     "execution_count": 21,
     "metadata": {},
     "output_type": "execute_result"
    }
   ],
   "source": [
    "b[\"red\"]  # __getitem__ method check"
   ]
  }
 ],
 "metadata": {
  "kernelspec": {
   "display_name": "Python 3 (ipykernel)",
   "language": "python",
   "name": "python3"
  },
  "language_info": {
   "codemirror_mode": {
    "name": "ipython",
    "version": 3
   },
   "file_extension": ".py",
   "mimetype": "text/x-python",
   "name": "python",
   "nbconvert_exporter": "python",
   "pygments_lexer": "ipython3",
   "version": "3.10.1"
  }
 },
 "nbformat": 4,
 "nbformat_minor": 5
}
